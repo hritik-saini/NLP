{
 "cells": [
  {
   "cell_type": "code",
   "execution_count": null,
   "id": "bd32144f-b597-46c6-b1d9-3a5aa48a1f88",
   "metadata": {},
   "outputs": [],
   "source": [
    "We are building the Char level RNN.\n",
    "Task - To predict the nationality for a given na"
   ]
  }
 ],
 "metadata": {
  "kernelspec": {
   "display_name": "Python 3 (ipykernel)",
   "language": "python",
   "name": "python3"
  },
  "language_info": {
   "codemirror_mode": {
    "name": "ipython",
    "version": 3
   },
   "file_extension": ".py",
   "mimetype": "text/x-python",
   "name": "python",
   "nbconvert_exporter": "python",
   "pygments_lexer": "ipython3",
   "version": "3.10.12"
  }
 },
 "nbformat": 4,
 "nbformat_minor": 5
}
