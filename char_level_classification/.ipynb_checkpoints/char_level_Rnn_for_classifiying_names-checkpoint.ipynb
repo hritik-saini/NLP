{
 "cells": [
  {
   "cell_type": "code",
   "execution_count": 3,
   "id": "bd32144f-b597-46c6-b1d9-3a5aa48a1f88",
   "metadata": {},
   "outputs": [],
   "source": [
    "#We are building the Char level RNN.\n",
    "#Task - To predict the nationality for a given name"
   ]
  },
  {
   "cell_type": "code",
   "execution_count": 1,
   "id": "adf31d2d-7f0a-41f3-a8a9-f019a543895b",
   "metadata": {},
   "outputs": [],
   "source": [
    "import torch \n",
    "import torch.nn as nn\n",
    "import torch.nn.functional as F\n",
    "import pandas as pd\n",
    "from sklearn.model_selection import train_test_split\n",
    "import string\n",
    "import numpy as np"
   ]
  },
  {
   "cell_type": "code",
   "execution_count": 3,
   "id": "6f7d8eba-1f05-47e6-8707-affbe45ee9bb",
   "metadata": {},
   "outputs": [],
   "source": [
    "# Read the data and separate the name and nationality\n",
    "languages = []\n",
    "data = []\n",
    "X = []\n",
    "y = []\n",
    "\n",
    "with open(\"surnames/surnames.csv\", 'r') as f:\n",
    "    text = f.readlines()\n",
    "    for line in text[1:]:  #starting from 1 to beacause at zero index we have column headers\n",
    "        line = line.split(\",\")\n",
    "        name = line[0].strip()\n",
    "        lang = line[1].strip()\n",
    "        if not lang in languages:\n",
    "            languages.append(lang)\n",
    "        X.append(name)\n",
    "        y.append(lang)\n",
    "        data.append((name, lang))\n",
    "\n",
    "n_languages = len(languages)"
   ]
  },
  {
   "cell_type": "code",
   "execution_count": 4,
   "id": "80a860ae-cff8-4114-a0e6-aff7d8110eee",
   "metadata": {},
   "outputs": [
    {
     "name": "stdout",
     "output_type": "stream",
     "text": [
      "Training Data:  8784\n",
      "Testing Data:  2196\n"
     ]
    }
   ],
   "source": [
    "torch.manual_seed(42)\n",
    "# Split the dataset in train and test\n",
    "X_train, X_test, y_train, y_test = train_test_split(X, y, test_size = 0.2, random_state = 123, stratify = y)\n",
    "print(\"Training Data: \", len(X_train))\n",
    "print(\"Testing Data: \", len(X_test))"
   ]
  },
  {
   "cell_type": "code",
   "execution_count": 5,
   "id": "59a42b0a-aee9-4307-8a97-ab81c723be07",
   "metadata": {},
   "outputs": [
    {
     "name": "stdout",
     "output_type": "stream",
     "text": [
      "Number of letters:  55\n"
     ]
    }
   ],
   "source": [
    "#Build the Vocabulary\n",
    "#get all the letters\n",
    "all_letters = string.ascii_letters + \".,;\"\n",
    "vocab_size = len(all_letters)\n",
    "\n",
    "print(\"Number of letters: \", vocab_size)"
   ]
  },
  {
   "cell_type": "code",
   "execution_count": 6,
   "id": "dafbfb03-41bd-4b1c-b4aa-1d39caed1ee4",
   "metadata": {},
   "outputs": [],
   "source": [
    "# Define a function to convert the name into one-hot vector \n",
    "def name_vector(name):\n",
    "    rep = torch.zeros(len(name), 1, vocab_size)\n",
    "    for index, letter in enumerate(name):\n",
    "        pos = all_letters.find(letter)\n",
    "        rep[index][0][pos] = 1\n",
    "    return rep"
   ]
  },
  {
   "cell_type": "code",
   "execution_count": 7,
   "id": "6e102254-ec00-421c-a970-35897558901f",
   "metadata": {},
   "outputs": [
    {
     "data": {
      "text/plain": [
       "torch.Size([6, 1, 55])"
      ]
     },
     "execution_count": 7,
     "metadata": {},
     "output_type": "execute_result"
    }
   ],
   "source": [
    "# For all the 6 letter in \"Hritik\" it will create a vocab_size long tensor.\n",
    "# for char index in vocab it will put 1 otherwise 0\n",
    "# These are 6 separate char - of size (1,55) -- where 55 is our vocab_size\n",
    "name_vector(\"Hritik\").shape "
   ]
  },
  {
   "cell_type": "code",
   "execution_count": 8,
   "id": "d7fa1dd8-258d-4ec8-b374-4f58f7f3d253",
   "metadata": {},
   "outputs": [],
   "source": [
    "# We also have to repersent the nationality in vectors \n",
    "# It will return the index for crossponding nationality in languages array\n",
    "def nationality_vector(lang):\n",
    "    return torch.tensor([languages.index(lang)], dtype = torch.long)"
   ]
  },
  {
   "cell_type": "code",
   "execution_count": 9,
   "id": "9df64334-7346-46ff-85aa-b15eab99cc05",
   "metadata": {},
   "outputs": [
    {
     "data": {
      "text/plain": [
       "tensor([6])"
      ]
     },
     "execution_count": 9,
     "metadata": {},
     "output_type": "execute_result"
    }
   ],
   "source": [
    "nationality_vector(\"Italian\")"
   ]
  },
  {
   "cell_type": "code",
   "execution_count": 10,
   "id": "fca077e1-2721-4abe-9a99-2e407b4349bc",
   "metadata": {},
   "outputs": [],
   "source": [
    "# Create a function to load the dataset \n",
    "def dataloader(batch_size, X, y):\n",
    "    to_ret = []\n",
    "    for i in range(batch_size): # Here batch_size is the examples we one to proceed in one training iteration\n",
    "        index = np.random.randint(len(X))\n",
    "        name, lang = X[index], y[index]  #get the data at the random index\n",
    "        to_ret.append((name, lang, name_vector(name), nationality_vector(lang)))\n",
    "\n",
    "    return to_ret"
   ]
  },
  {
   "cell_type": "code",
   "execution_count": 11,
   "id": "757f7d72-cecf-4622-95fb-6a8e3152e2e3",
   "metadata": {},
   "outputs": [],
   "source": [
    "# Build the RNN Model\n",
    "\n",
    "class RNN(nn.Module):\n",
    "    \n",
    "    def __init__(self, input_size, hidden_size, output_size):\n",
    "        super().__init__()\n",
    "        self.hidden_size = hidden_size\n",
    "        self.i2h = nn.Linear(input_size + hidden_size, hidden_size) #input to hidden layer\n",
    "        self.i2o = nn.Linear(input_size + hidden_size, output_size) #input to output layer\n",
    "        self.softmax = nn.LogSoftmax(dim = 1) #softmax for classification \n",
    "\n",
    "    def forward(self, input, hidden):\n",
    "        combined = torch.cat((input, hidden), 1) #concatenate tensors on column wise\n",
    "        hidden = self.i2h(combined) \n",
    "        output = self.i2o(combined) \n",
    "        output = self.softmax(output)\n",
    "        return output, hidden\n",
    "        \n",
    "    def init_hidden(self): # Define the initail hidden state\n",
    "        return torch.zeros(1, self.hidden_size)"
   ]
  },
  {
   "cell_type": "code",
   "execution_count": 12,
   "id": "831c940c-4298-4d8a-b053-bd9c019b5cfc",
   "metadata": {},
   "outputs": [],
   "source": [
    "#function to train the data\n",
    "\n",
    "def train(model, optmizer, batch_size):\n",
    "    \n",
    "    total_loss = 0\n",
    "    optimizer.zero_grad()\n",
    "    \n",
    "    # load the data \n",
    "    data = dataloader(batch_size, X_train, y_train)\n",
    "    for name, language, name_tensor, nationality_tensor in data:\n",
    "        hidden = model.init_hidden() # initilize the hidden start for 1st layer of RNN\n",
    "        for i in range(name_tensor.size()[0]): # For all the character in name we want to run RNN sequentially\n",
    "            output, hidden = model(name_tensor[i], hidden) \n",
    "            \n",
    "    \n",
    "        loss = F.cross_entropy(output, nationality_tensor)\n",
    "        loss.backward()\n",
    "        total_loss += loss\n",
    "    optimizer.step()\n",
    "    \n",
    "    return total_loss/batch_size"
   ]
  },
  {
   "cell_type": "code",
   "execution_count": 20,
   "id": "d50c6b16-3822-4f04-bdc3-aaafcdaf13a2",
   "metadata": {},
   "outputs": [
    {
     "name": "stdout",
     "output_type": "stream",
     "text": [
      "loss for 0/5000 : 2.9241\n",
      "loss for 1000/5000 : 1.3550\n",
      "loss for 2000/5000 : 0.9844\n",
      "loss for 3000/5000 : 1.1569\n",
      "loss for 4000/5000 : 1.0527\n",
      "loss for 4999/5000 : 0.6396\n"
     ]
    }
   ],
   "source": [
    "# Hyperparamters\n",
    "batch_size = 16\n",
    "max_iter = 5000\n",
    "n_hidden = 128\n",
    "model = RNN(vocab_size, n_hidden, n_languages)\n",
    "optimizer = torch.optim.Adam(model.parameters(), lr=0.001)\n",
    "loss_list = []\n",
    "\n",
    "for i in range(max_iter):\n",
    "    loss = train(model, optimizer, batch_size)\n",
    "\n",
    "    if i%1000 == 0 or i == max_iter-1:\n",
    "        print(f'loss for {i}/{max_iter} : {loss:.4f}')\n",
    "    loss_list.append(loss.log10().item())\n",
    "    \n",
    "\n"
   ]
  },
  {
   "cell_type": "code",
   "execution_count": 21,
   "id": "0d7bc81b-f8b1-44b1-83fe-2dec8588d887",
   "metadata": {},
   "outputs": [
    {
     "data": {
      "text/plain": [
       "[<matplotlib.lines.Line2D at 0x7fbcccdd26e0>]"
      ]
     },
     "execution_count": 21,
     "metadata": {},
     "output_type": "execute_result"
    },
    {
     "data": {
      "image/png": "[encoded data removed]",
      "text/plain": [
       "<Figure size 640x480 with 1 Axes>"
      ]
     },
     "metadata": {},
     "output_type": "display_data"
    }
   ],
   "source": [
    "import matplotlib.pyplot as plt\n",
    "%matplotlib inline\n",
    "plt.plot(torch.tensor(loss_list).view(-1,50).mean(1))"
   ]
  },
  {
   "cell_type": "code",
   "execution_count": 22,
   "id": "496dd632-e4f1-45dc-b171-f502a05dc11e",
   "metadata": {},
   "outputs": [
    {
     "name": "stdout",
     "output_type": "stream",
     "text": [
      "train 0.0317903570830822\n",
      "test 0.017543261870741844\n"
     ]
    }
   ],
   "source": [
    "# Evaluate the loss\n",
    "@torch.no_grad()\n",
    "def eval(split):\n",
    "\n",
    "    x,y = {\n",
    "        'train':(X_train,y_train),\n",
    "        'test':(X_test,y_test)\n",
    "    }[split]\n",
    "\n",
    "    data = dataloader(batch_size, x, y)\n",
    "    correct = 0\n",
    "\n",
    "    for name, language, name_tensor, nationality_tensor in data:\n",
    "        model.eval()\n",
    "        hidden = model.init_hidden()\n",
    "        for i in range(name_tensor.size()[0]):\n",
    "            output, hidden = model(name_tensor[i], hidden)\n",
    "        \n",
    "        loss = F.cross_entropy(output, nationality_tensor)\n",
    "    print(split, loss.item())\n",
    "\n",
    "eval('train')\n",
    "eval('test')"
   ]
  },
  {
   "cell_type": "code",
   "execution_count": 25,
   "id": "5be4a6e9-09ef-4ea9-83c2-2b5f14785bea",
   "metadata": {},
   "outputs": [
    {
     "name": "stdout",
     "output_type": "stream",
     "text": [
      "Russian\n"
     ]
    }
   ],
   "source": [
    "# Predictions\n",
    "def inference(name):\n",
    "    model.eval()\n",
    "    name_tensor = name_vector(name)\n",
    "    hidden = model.init_hidden()\n",
    "    for i in range(name_tensor.size()[0]):\n",
    "        output, hidden = model(name_tensor[i], hidden)\n",
    "    return output\n",
    "\n",
    "out = inference(\"Hritik\")\n",
    "index = torch.argmax(out)\n",
    "print(languages[index])\n",
    " "
   ]
  },
  {
   "cell_type": "code",
   "execution_count": null,
   "id": "3d8c56cc-30bb-4477-ae93-c4646f9760b1",
   "metadata": {},
   "outputs": [],
   "source": []
  },
  {
   "cell_type": "code",
   "execution_count": null,
   "id": "c61322eb-ccda-4112-a411-b327021e0f24",
   "metadata": {},
   "outputs": [],
   "source": []
  }
 ],
 "metadata": {
  "kernelspec": {
   "display_name": "Python 3 (ipykernel)",
   "language": "python",
   "name": "python3"
  },
  "language_info": {
   "codemirror_mode": {
    "name": "ipython",
    "version": 3
   },
   "file_extension": ".py",
   "mimetype": "text/x-python",
   "name": "python",
   "nbconvert_exporter": "python",
   "pygments_lexer": "ipython3",
   "version": "3.10.12"
  }
 },
 "nbformat": 4,
 "nbformat_minor": 5
}
